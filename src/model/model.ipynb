{
 "cells": [
  {
   "cell_type": "code",
   "execution_count": 1,
   "metadata": {},
   "outputs": [],
   "source": [
    "import sys\n",
    "import os\n",
    "from pathlib import Path\n",
    "import numpy \n",
    "import pandas as pd\n",
    "\n",
    "src_path = os.path.abspath(os.path.join(os.getcwd(), \"..\"))\n",
    "sys.path.append(src_path)\n",
    "\n",
    "from functions.preprocessing import extract_faces_and_labels"
   ]
  },
  {
   "cell_type": "code",
   "execution_count": 2,
   "metadata": {},
   "outputs": [
    {
     "name": "stdout",
     "output_type": "stream",
     "text": [
      "Warning: No face detected in c:\\Users\\mdall\\Desktop\\Projects\\Face-Recognition\\src\\dataset\\Alan_Grant\\image15.jpeg\n",
      "Warning: No face detected in c:\\Users\\mdall\\Desktop\\Projects\\Face-Recognition\\src\\dataset\\Alan_Grant\\images103.jpg\n",
      "Warning: No face detected in c:\\Users\\mdall\\Desktop\\Projects\\Face-Recognition\\src\\dataset\\John_Hammond\\image13.jpeg\n",
      "Warning: No face detected in c:\\Users\\mdall\\Desktop\\Projects\\Face-Recognition\\src\\dataset\\John_Hammond\\images107.jpg\n",
      "Warning: No face detected in c:\\Users\\mdall\\Desktop\\Projects\\Face-Recognition\\src\\dataset\\John_Hammond\\images5.jpg\n",
      "Warning: No face detected in c:\\Users\\mdall\\Desktop\\Projects\\Face-Recognition\\src\\dataset\\John_Hammond\\images73.jpg\n",
      "Warning: No face detected in c:\\Users\\mdall\\Desktop\\Projects\\Face-Recognition\\src\\dataset\\John_Hammond\\images75.jpg\n"
     ]
    }
   ],
   "source": [
    "dataset_path = os.path.abspath(os.path.join(os.getcwd(), \"..\", \"dataset\"))\n",
    "\n",
    "data = extract_faces_and_labels(dataset_path)"
   ]
  },
  {
   "cell_type": "code",
   "execution_count": 3,
   "metadata": {},
   "outputs": [
    {
     "data": {
      "text/html": [
       "<div>\n",
       "<style scoped>\n",
       "    .dataframe tbody tr th:only-of-type {\n",
       "        vertical-align: middle;\n",
       "    }\n",
       "\n",
       "    .dataframe tbody tr th {\n",
       "        vertical-align: top;\n",
       "    }\n",
       "\n",
       "    .dataframe thead th {\n",
       "        text-align: right;\n",
       "    }\n",
       "</style>\n",
       "<table border=\"1\" class=\"dataframe\">\n",
       "  <thead>\n",
       "    <tr style=\"text-align: right;\">\n",
       "      <th></th>\n",
       "      <th>image_path</th>\n",
       "      <th>label</th>\n",
       "      <th>face_array</th>\n",
       "    </tr>\n",
       "  </thead>\n",
       "  <tbody>\n",
       "    <tr>\n",
       "      <th>0</th>\n",
       "      <td>c:\\Users\\mdall\\Desktop\\Projects\\Face-Recogniti...</td>\n",
       "      <td>Alan_Grant</td>\n",
       "      <td>[[[0.64705884, 0.3529412, 0.38431373], [0.6431...</td>\n",
       "    </tr>\n",
       "    <tr>\n",
       "      <th>1</th>\n",
       "      <td>c:\\Users\\mdall\\Desktop\\Projects\\Face-Recogniti...</td>\n",
       "      <td>Alan_Grant</td>\n",
       "      <td>[[[0.37254903, 0.30588236, 0.27058825], [0.313...</td>\n",
       "    </tr>\n",
       "    <tr>\n",
       "      <th>2</th>\n",
       "      <td>c:\\Users\\mdall\\Desktop\\Projects\\Face-Recogniti...</td>\n",
       "      <td>Alan_Grant</td>\n",
       "      <td>[[[0.56078434, 0.49019608, 0.5529412], [0.5647...</td>\n",
       "    </tr>\n",
       "    <tr>\n",
       "      <th>3</th>\n",
       "      <td>c:\\Users\\mdall\\Desktop\\Projects\\Face-Recogniti...</td>\n",
       "      <td>Alan_Grant</td>\n",
       "      <td>[[[0.11372549, 0.13725491, 0.15294118], [0.094...</td>\n",
       "    </tr>\n",
       "    <tr>\n",
       "      <th>4</th>\n",
       "      <td>c:\\Users\\mdall\\Desktop\\Projects\\Face-Recogniti...</td>\n",
       "      <td>Alan_Grant</td>\n",
       "      <td>[[[0.1254902, 0.14117648, 0.16862746], [0.1137...</td>\n",
       "    </tr>\n",
       "  </tbody>\n",
       "</table>\n",
       "</div>"
      ],
      "text/plain": [
       "                                          image_path       label  \\\n",
       "0  c:\\Users\\mdall\\Desktop\\Projects\\Face-Recogniti...  Alan_Grant   \n",
       "1  c:\\Users\\mdall\\Desktop\\Projects\\Face-Recogniti...  Alan_Grant   \n",
       "2  c:\\Users\\mdall\\Desktop\\Projects\\Face-Recogniti...  Alan_Grant   \n",
       "3  c:\\Users\\mdall\\Desktop\\Projects\\Face-Recogniti...  Alan_Grant   \n",
       "4  c:\\Users\\mdall\\Desktop\\Projects\\Face-Recogniti...  Alan_Grant   \n",
       "\n",
       "                                          face_array  \n",
       "0  [[[0.64705884, 0.3529412, 0.38431373], [0.6431...  \n",
       "1  [[[0.37254903, 0.30588236, 0.27058825], [0.313...  \n",
       "2  [[[0.56078434, 0.49019608, 0.5529412], [0.5647...  \n",
       "3  [[[0.11372549, 0.13725491, 0.15294118], [0.094...  \n",
       "4  [[[0.1254902, 0.14117648, 0.16862746], [0.1137...  "
      ]
     },
     "execution_count": 3,
     "metadata": {},
     "output_type": "execute_result"
    }
   ],
   "source": [
    "data.head()"
   ]
  }
 ],
 "metadata": {
  "kernelspec": {
   "display_name": "face_rec",
   "language": "python",
   "name": "python3"
  },
  "language_info": {
   "codemirror_mode": {
    "name": "ipython",
    "version": 3
   },
   "file_extension": ".py",
   "mimetype": "text/x-python",
   "name": "python",
   "nbconvert_exporter": "python",
   "pygments_lexer": "ipython3",
   "version": "3.9.21"
  }
 },
 "nbformat": 4,
 "nbformat_minor": 2
}
